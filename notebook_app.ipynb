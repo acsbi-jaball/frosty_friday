{
 "metadata": {
  "kernelspec": {
   "display_name": "Streamlit Notebook",
   "name": "streamlit"
  }
 },
 "nbformat_minor": 5,
 "nbformat": 4,
 "cells": [
  {
   "cell_type": "code",
   "id": "62f9dba3-0773-4ccd-802a-161150e08d71",
   "metadata": {
    "language": "sql",
    "name": "create_api_integration"
   },
   "outputs": [],
   "source": "-- create api integration using Frosty Fridays as the allowed prefix;\n-- this way multiple git repository stages can be built from a single api integration\n\nCREATE API INTEGRATION IF NOT EXISTS FROSTY_FRIDAY_GIT\napi_provider = git_https_api\napi_allowed_prefixes = ('https://github.com/FrostyFridays/')\nenabled = true",
   "execution_count": null
  },
  {
   "cell_type": "code",
   "id": "f8b44430-797e-4eda-969d-9bed8f6d154d",
   "metadata": {
    "language": "sql",
    "name": "create_git_repo_stage",
    "collapsed": false
   },
   "outputs": [],
   "source": "-- create the git repository stage specifically for FF_week_91\n\nCREATE GIT REPOSITORY IF NOT EXISTS WEEK_91_REPO\nORIGIN = 'https://github.com/FrostyFridays/FF_week_91.git'\nAPI_INTEGRATION = frosty_friday_git",
   "execution_count": null
  },
  {
   "cell_type": "code",
   "id": "35b14d25-517e-4a75-a3a8-cf6ab0b223be",
   "metadata": {
    "language": "sql",
    "name": "explore_git_branches"
   },
   "outputs": [],
   "source": "-- see what branches are in the repo\n-- extraneous for this challenge but useful for exploration\n\nshow git branches in week_91_repo",
   "execution_count": null
  },
  {
   "cell_type": "code",
   "id": "79ad17d2-65da-4db5-b29e-8ba57ec5e6b9",
   "metadata": {
    "language": "sql",
    "name": "explore_main_branch"
   },
   "outputs": [],
   "source": "-- see what files are in the main branch\n-- extraneous for this challenge but useful for exploration\n\nls @week_91_repo/branches/main",
   "execution_count": null
  },
  {
   "cell_type": "code",
   "id": "10fb956a-f65d-4e9d-85c4-86e8fbd38c13",
   "metadata": {
    "language": "sql",
    "name": "create_table",
    "collapsed": false
   },
   "outputs": [],
   "source": "-- create sample table, code directly from the challenge\n\nCREATE OR REPLACE TABLE people (\nid INTEGER,\nname VARCHAR\n);\n\nINSERT INTO people (id, name) VALUES\n(1, 'Alice'),\n(2, 'Bob'),\n(3, 'Charlie'),\n(4, 'David'),\n(5, 'Eva'),\n(6, 'Fiona'),\n(7, 'George'),\n(8, 'Hannah'),\n(9, 'Ian'),\n(10, 'Julia');",
   "execution_count": null
  },
  {
   "cell_type": "code",
   "id": "a50df0e3-60e7-48ab-8543-c28c60d4e1ae",
   "metadata": {
    "language": "sql",
    "name": "create_proc_from_repo_python_script"
   },
   "outputs": [],
   "source": "-- create a prodecure that references the function within the python script\n-- parameters of prodecure should match python function\n\nCREATE OR REPLACE PROCEDURE add_one_to_column(tableName VARCHAR, columnName VARCHAR)\n  RETURNS TABLE()\n  LANGUAGE PYTHON\n  RUNTIME_VERSION = '3.8'\n  PACKAGES = ('snowflake-snowpark-python')\n  IMPORTS = ('@FROSTY_FRIDAY.WEEK_91.WEEK_91_REPO/branches/main/add_1.py')\n  HANDLER = 'add_1.add_one_to_column';",
   "execution_count": null
  },
  {
   "cell_type": "code",
   "id": "bf82cef4-8fd8-4e9c-aaa6-efd45d4b6af4",
   "metadata": {
    "language": "sql",
    "name": "call_proc_on_sample_table"
   },
   "outputs": [],
   "source": "-- call the procedure on the sample table\n-- important to note the proc doesn't change the source data\n-- it just performs the operation on the column and returns the table\n-- similar to running a select on the table and adding one to a column\n\ncall add_one_to_column('people','id')",
   "execution_count": null
  },
  {
   "cell_type": "code",
   "id": "838bb235-df89-48fb-ae1d-92763e749bc1",
   "metadata": {
    "language": "sql",
    "name": "check_table",
    "codeCollapsed": false
   },
   "outputs": [],
   "source": "-- select * from the table shows no change to underlying table\n\nselect * from people",
   "execution_count": null
  },
  {
   "cell_type": "code",
   "id": "be5a43c4-e404-4980-9ee1-243f29b03f33",
   "metadata": {
    "language": "python",
    "name": "week_91_python_func_for_reference"
   },
   "outputs": [],
   "source": "# not for running, just for reference\n\nfrom snowflake.snowpark.functions import col\n\ndef add_one_to_column(session, table_name, column_name):\n    df = session.table(table_name)\n    updated_df = df.withColumn(column_name, col(column_name) + 1)\n    return updated_df\n",
   "execution_count": null
  }
 ]
}